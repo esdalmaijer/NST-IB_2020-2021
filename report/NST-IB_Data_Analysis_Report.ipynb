{
 "cells": [
  {
   "cell_type": "markdown",
   "metadata": {},
   "source": [
    "# Data Analysis Report\n",
    "\n",
    "You can use this file to create a data visualisation and to compute the statistics for the NST-IB / PBS4 Experimental Psychology Data Analysis Report. A start has been made for you in the box below. The code below loads the data in various variables.\n",
    "\n",
    "It is up to you to use these variables to visualise the data how you think it should be, and to run your statistical test of choice."
   ]
  },
  {
   "cell_type": "code",
   "execution_count": null,
   "metadata": {},
   "outputs": [],
   "source": [
    "import numpy\n",
    "from matplotlib import pyplot\n",
    "\n",
    "# Load the data.\n",
    "data = numpy.loadtxt(\"student_data.csv\", delimiter=\",\", \\\n",
    "    dtype=float, skiprows=1)\n",
    "\n",
    "# Give the data sensible variable names.\n",
    "participant_id = data[:,0]\n",
    "participant_age = data[:,1]\n",
    "participant_capacity = data[:,2]\n",
    "\n",
    "# OPTION 1: Higher-capacity and lower-capacity\n",
    "# difference in number of claimed items.\n",
    "lo_capacity_n_claimed = data[:,3]\n",
    "hi_capacity_n_claimed = data[:,4]\n",
    "\n",
    "# OPTION 2: Relationship between collaboration\n",
    "# rating and robot-human rating.\n",
    "collab_rating = data[:,5]\n",
    "human_rating = data[:,6]"
   ]
  }
 ],
 "metadata": {
  "kernelspec": {
   "display_name": "Python 3",
   "language": "python",
   "name": "python3"
  },
  "language_info": {
   "codemirror_mode": {
    "name": "ipython",
    "version": 3
   },
   "file_extension": ".py",
   "mimetype": "text/x-python",
   "name": "python",
   "nbconvert_exporter": "python",
   "pygments_lexer": "ipython3",
   "version": "3.7.6"
  }
 },
 "nbformat": 4,
 "nbformat_minor": 4
}
